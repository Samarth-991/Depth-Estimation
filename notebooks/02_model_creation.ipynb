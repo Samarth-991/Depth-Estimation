{
 "cells": [
  {
   "cell_type": "code",
   "execution_count": 1,
   "metadata": {},
   "outputs": [],
   "source": [
    "import torch\n",
    "import torch.nn as nn\n",
    "import torchvision\n",
    "from torchvision import models\n",
    "import torch.nn.functional as F"
   ]
  },
  {
   "attachments": {},
   "cell_type": "markdown",
   "metadata": {},
   "source": [
    "### Encoder-Decoder Model Arch. for Creating Depth Estimation \n",
    "\n",
    "Following a standard encoder-decoder architecture, we leverage features extracted using high performing pre-trained networks like Dense Net. \n",
    "\n",
    "Using Transfer learning high performing pre-trained networks that are originally designed for image classification as our deep features encoder. Transfer learning-based approach allows for a more modular architecture where future advances in one domain are easily transferred to the depth estimation problem. So there is no need to train the encoder entirely from scratch . "
   ]
  },
  {
   "cell_type": "code",
   "execution_count": 2,
   "metadata": {},
   "outputs": [],
   "source": [
    "class UpSample(nn.Sequential):\n",
    "    def __init__(self, skip_input, output_features):\n",
    "        super(UpSample, self).__init__()        \n",
    "        self.convA = nn.Conv2d(skip_input, output_features, kernel_size=3, stride=1, padding=1)\n",
    "        self.leakyreluA = nn.LeakyReLU(0.2)\n",
    "        self.convB = nn.Conv2d(output_features, output_features, kernel_size=3, stride=1, padding=1)\n",
    "        self.leakyreluB = nn.LeakyReLU(0.2)\n",
    "\n",
    "    def forward(self, x, concat_with):\n",
    "        up_x = F.interpolate(x, size=[concat_with.size(2), concat_with.size(3)], mode='bilinear', align_corners=True)\n",
    "        return self.leakyreluB( self.convB( self.convA( torch.cat([up_x, concat_with], dim=1)  ) )  )"
   ]
  },
  {
   "cell_type": "code",
   "execution_count": 3,
   "metadata": {},
   "outputs": [],
   "source": [
    "class Decoder(nn.Module):\n",
    "    def __init__(self, num_features=1664, decoder_width = 1.0):\n",
    "        super(Decoder, self).__init__()\n",
    "        features = int(num_features * decoder_width)\n",
    "\n",
    "        self.conv2 = nn.Conv2d(num_features, features, kernel_size=1, stride=1, padding=0)\n",
    "\n",
    "        self.up1 = UpSample(skip_input=features//1 + 256, output_features=features//2)\n",
    "        self.up2 = UpSample(skip_input=features//2 + 128,  output_features=features//4)\n",
    "        self.up3 = UpSample(skip_input=features//4 + 64,  output_features=features//8)\n",
    "        self.up4 = UpSample(skip_input=features//8 + 64,  output_features=features//16)\n",
    "\n",
    "        self.conv3 = nn.Conv2d(features//16, 1, kernel_size=3, stride=1, padding=1)\n",
    "\n",
    "    def forward(self, features):\n",
    "        x_block0, x_block1, x_block2, x_block3, x_block4 = features[3], features[4], features[6], features[8], features[12]\n",
    "        x_d0 = self.conv2(F.relu(x_block4))\n",
    "\n",
    "        x_d1 = self.up1(x_d0, x_block3)\n",
    "        x_d2 = self.up2(x_d1, x_block2)\n",
    "        x_d3 = self.up3(x_d2, x_block1)\n",
    "        x_d4 = self.up4(x_d3, x_block0)\n",
    "        return self.conv3(x_d4)\n"
   ]
  },
  {
   "cell_type": "code",
   "execution_count": 4,
   "metadata": {},
   "outputs": [],
   "source": [
    "class Encoder(nn.Module):\n",
    "    def __init__(self):\n",
    "        super(Encoder, self).__init__()       \n",
    "        self.original_model = models.densenet169( pretrained=False )\n",
    "\n",
    "    def forward(self, x):\n",
    "        features = [x]\n",
    "        for k, v in self.original_model.features._modules.items(): \n",
    "            features.append( v(features[-1]) )\n",
    "        return features\n",
    "\n",
    "class PTModel(nn.Module):\n",
    "    def __init__(self):\n",
    "        super(PTModel, self).__init__()\n",
    "        self.encoder = Encoder()\n",
    "        self.decoder = Decoder()\n",
    "\n",
    "    def forward(self, x):\n",
    "        return self.decoder( self.encoder(x) )"
   ]
  },
  {
   "cell_type": "code",
   "execution_count": null,
   "metadata": {},
   "outputs": [],
   "source": [
    "# Create model\n",
    "model = PTModel().cuda()\n",
    "print('Model created.')"
   ]
  },
  {
   "cell_type": "code",
   "execution_count": 6,
   "metadata": {},
   "outputs": [
    {
     "name": "stdout",
     "output_type": "stream",
     "text": [
      "Trainable Parameters :44322689\n"
     ]
    }
   ],
   "source": [
    "# Get Trainable Parameters \n",
    "pytorch_trainable_params = sum(p.numel() for p in model.parameters() if p.requires_grad)\n",
    "print(f\"Trainable Parameters :{pytorch_trainable_params}\")"
   ]
  },
  {
   "cell_type": "code",
   "execution_count": null,
   "metadata": {},
   "outputs": [],
   "source": [
    "\n",
    "from torchview import draw_graph\n",
    "\n",
    "model_graph = draw_graph(model, input_size=(1,3,512,512), expand_nested=True)\n",
    "model_graph.visual_graph"
   ]
  },
  {
   "cell_type": "code",
   "execution_count": null,
   "metadata": {},
   "outputs": [],
   "source": []
  }
 ],
 "metadata": {
  "kernelspec": {
   "display_name": "ptorch",
   "language": "python",
   "name": "python3"
  },
  "language_info": {
   "codemirror_mode": {
    "name": "ipython",
    "version": 3
   },
   "file_extension": ".py",
   "mimetype": "text/x-python",
   "name": "python",
   "nbconvert_exporter": "python",
   "pygments_lexer": "ipython3",
   "version": "3.10.12"
  },
  "orig_nbformat": 4
 },
 "nbformat": 4,
 "nbformat_minor": 2
}
